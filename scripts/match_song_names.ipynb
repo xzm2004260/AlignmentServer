{
 "cells": [
  {
   "cell_type": "code",
   "execution_count": 45,
   "metadata": {},
   "outputs": [],
   "source": [
    "import Levenshtein\n",
    "import os\n",
    "import glob\n",
    "import re\n",
    "\n",
    "txt_files =  glob.glob('/Users/joro/Documents/VOICE_magix/Lyric_find/dataset150/*.txt')\n",
    "mp3_all_files =  glob.glob('/Users/joro/Documents/VOICE_magix/Lyric_find/dataset150/*.mp3')\n",
    "\n",
    "lyrics_files = []\n",
    "for file in txt_files:\n",
    "    if 'detected' in file:\n",
    "        continue\n",
    "    else:\n",
    "        lyrics_files.append(file)\n",
    "        \n",
    "mp3_files = []\n",
    "for file in mp3_all_files:        \n",
    "    song_name = os.path.splitext(file)[0]\n",
    "    if os.path.exists(song_name + '.txt'): \n",
    "        continue\n",
    "    else:\n",
    "        mp3_files.append(file)"
   ]
  },
  {
   "cell_type": "code",
   "execution_count": 46,
   "metadata": {},
   "outputs": [
    {
     "name": "stdout",
     "output_type": "stream",
     "text": [
      "150\n",
      "0\n"
     ]
    }
   ],
   "source": [
    "print(len(lyrics_files))\n",
    "print(len(mp3_files))"
   ]
  },
  {
   "cell_type": "code",
   "execution_count": 40,
   "metadata": {},
   "outputs": [
    {
     "name": "stdout",
     "output_type": "stream",
     "text": [
      "Angel Olsen - Hi-Five (Music Video) skipped\n",
      "Jay-Z, Beyonce - Part II (On The Run) skipped\n",
      "/Users/joro/Documents/VOICE_magix/Lyric_find/dataset150/Kelis - Millionaire.mp3\n",
      "/Users/joro/Documents/VOICE_magix/Lyric_find/dataset150/Kelis feat. André 3000 - Millionaire.txt\n",
      "next?y\n",
      "/Users/joro/Documents/VOICE_magix/Lyric_find/dataset150/Kesha - Learn To Let Go.mp3\n",
      "/Users/joro/Documents/VOICE_magix/Lyric_find/dataset150/Ke$ha - Learn to Let Go.txt\n",
      "next?y\n",
      "/Users/joro/Documents/VOICE_magix/Lyric_find/dataset150/Kyle - Playinwitme (feat. Kehlani).mp3\n",
      "/Users/joro/Documents/VOICE_magix/Lyric_find/dataset150/KYLE feat. Kehlani - Playinwitme.txt\n",
      "next?y\n",
      "/Users/joro/Documents/VOICE_magix/Lyric_find/dataset150/Lil Kim - Dreams.mp3\n",
      "/Users/joro/Documents/VOICE_magix/Lyric_find/dataset150/Lil' Kim - Dreams.txt\n",
      "next?y\n",
      "/Users/joro/Documents/VOICE_magix/Lyric_find/dataset150/Lil Xan - Moonlight.mp3\n",
      "/Users/joro/Documents/VOICE_magix/Lyric_find/dataset150/Lil Xan feat. Charli XCX - Moonlight.txt\n",
      "next?y\n",
      "/Users/joro/Documents/VOICE_magix/Lyric_find/dataset150/Lionel Richie, Diana Ross - Endless Love.mp3\n",
      "/Users/joro/Documents/VOICE_magix/Lyric_find/dataset150/Diana Ross feat. Lionel Richie - Endless Love.txt\n",
      "next?y\n",
      "/Users/joro/Documents/VOICE_magix/Lyric_find/dataset150/Louis Armstrong- What A Wonderful World.mp3\n",
      "/Users/joro/Documents/VOICE_magix/Lyric_find/dataset150/Louis Armstrong - What A Wonderful World.txt\n",
      "next?y\n",
      "/Users/joro/Documents/VOICE_magix/Lyric_find/dataset150/Mark Ronson - Uptown Funk (feat. Bruno Mars).mp3\n",
      "/Users/joro/Documents/VOICE_magix/Lyric_find/dataset150/Mark Ronson feat. Bruno Mars - Uptown Funk.txt\n",
      "next?y\n",
      "/Users/joro/Documents/VOICE_magix/Lyric_find/dataset150/Mars - All They Wanna Be.mp3\n",
      "/Users/joro/Documents/VOICE_magix/Lyric_find/dataset150/Madison Mars - All They Wanna Be.txt\n",
      "next?y\n",
      "/Users/joro/Documents/VOICE_magix/Lyric_find/dataset150/Meredith Brooks  - Bitch.mp3\n",
      "/Users/joro/Documents/VOICE_magix/Lyric_find/dataset150/Meredith Brooks - Bitch.txt\n",
      "next?y\n",
      "/Users/joro/Documents/VOICE_magix/Lyric_find/dataset150/Missy Elliott - We_Run_This.mp3\n",
      "/Users/joro/Documents/VOICE_magix/Lyric_find/dataset150/Missy Elliott - We Run This.txt\n",
      "next?y\n",
      "/Users/joro/Documents/VOICE_magix/Lyric_find/dataset150/Notorious BIG - Juicy.mp3\n",
      "/Users/joro/Documents/VOICE_magix/Lyric_find/dataset150/The Notorious B.I.G. - Juicy.txt\n",
      "next?y\n",
      "/Users/joro/Documents/VOICE_magix/Lyric_find/dataset150/panic at disco - there's A Good Reason These Tables Are Numbered Honey, You Just Haven't Though.mp3\n",
      "/Users/joro/Documents/VOICE_magix/Lyric_find/dataset150/Panic! At the Disco - There's a Good Reason These Tables Are Numbered Honey, You Just Haven't Thought of It Yet.txt\n",
      "next?y\n",
      "/Users/joro/Documents/VOICE_magix/Lyric_find/dataset150/Sheryl Crow - Picture (feat. kid rock).mp3\n",
      "/Users/joro/Documents/VOICE_magix/Lyric_find/dataset150/Kid Rock feat. Sheryl Crow - Picture.txt\n",
      "next?y\n",
      "/Users/joro/Documents/VOICE_magix/Lyric_find/dataset150/Sky Ferreira - You’re Not The One.mp3\n",
      "/Users/joro/Documents/VOICE_magix/Lyric_find/dataset150/Sky Ferreira - You're Not the One.txt\n",
      "next?y\n",
      "/Users/joro/Documents/VOICE_magix/Lyric_find/dataset150/Sugarland - Babe.mp3\n",
      "/Users/joro/Documents/VOICE_magix/Lyric_find/dataset150/Sugarland feat. Taylor Swift - Babe.txt\n",
      "next?y\n",
      "Sweet Home Chicago skipped\n",
      "The B-52's - Love Shack skipped\n",
      "/Users/joro/Documents/VOICE_magix/Lyric_find/dataset150/The Cure - I'm A Cult Hero.mp3\n",
      "/Users/joro/Documents/VOICE_magix/Lyric_find/dataset150/The Cure feat. Cult Hero - I'm a Cult Hero.txt\n",
      "next?y\n",
      "/Users/joro/Documents/VOICE_magix/Lyric_find/dataset150/The Magnetic Fields - absolutely cuckoo.mp3\n",
      "/Users/joro/Documents/VOICE_magix/Lyric_find/dataset150/Magnetic Fields - Absolutely Cuckoo.txt\n",
      "next?y\n",
      "/Users/joro/Documents/VOICE_magix/Lyric_find/dataset150/The Red Jumpsuit Aparatus - Face down.mp3\n",
      "/Users/joro/Documents/VOICE_magix/Lyric_find/dataset150/The Red Jumpsuit Apparatus - Face Down.txt\n",
      "next?y\n",
      "/Users/joro/Documents/VOICE_magix/Lyric_find/dataset150/The Supremes - Discover Me (And You'll Discover Love).mp3\n",
      "/Users/joro/Documents/VOICE_magix/Lyric_find/dataset150/Diana Ross feat. Diana Ross & the Supremes - Discover Me (And You'll Discover Love).txt\n",
      "next?y\n",
      "/Users/joro/Documents/VOICE_magix/Lyric_find/dataset150/Them Bones - Alice in Chains.mp3\n",
      "/Users/joro/Documents/VOICE_magix/Lyric_find/dataset150/Paramore - All We Know.txt\n",
      "next?\n",
      "/Users/joro/Documents/VOICE_magix/Lyric_find/dataset150/Touch Me - Avicii.mp3\n",
      "/Users/joro/Documents/VOICE_magix/Lyric_find/dataset150/Hole - Violet.txt\n",
      "next?\n",
      "/Users/joro/Documents/VOICE_magix/Lyric_find/dataset150/Trina - Pull Over.mp3\n",
      "/Users/joro/Documents/VOICE_magix/Lyric_find/dataset150/Trina feat. Trick Daddy - Pull Over.txt\n",
      "next?y\n",
      "/Users/joro/Documents/VOICE_magix/Lyric_find/dataset150/Vashawn Mitchell - Nobody Greater With Lyrics.mp3\n",
      "/Users/joro/Documents/VOICE_magix/Lyric_find/dataset150/VaShawn Mitchell - Nobody Greater.txt\n",
      "next?y\n",
      "/Users/joro/Documents/VOICE_magix/Lyric_find/dataset150/X - Your Phone's Off The Hook But You're Not.mp3\n",
      "/Users/joro/Documents/VOICE_magix/Lyric_find/dataset150/X - Your Phone's Off The Hook, But You're Not.txt\n",
      "next?y\n"
     ]
    }
   ],
   "source": [
    "for search_file in mp3_files:\n",
    "    song_name = os.path.splitext(os.path.basename(search_file))[0]\n",
    "    metadata = song_name.split('-')\n",
    "    if len(metadata) != 2:\n",
    "        print(song_name + ' skipped')\n",
    "        continue\n",
    "    min_lev = 1000\n",
    "    search_title, search_artist = normal(metadata[1], metadata[0])\n",
    "    for file in lyrics_files:\n",
    "        song_name = os.path.splitext(os.path.basename(file))[0]\n",
    "        metadata = song_name.split('-')\n",
    "        if len(metadata) != 2:\n",
    "            continue\n",
    "        artist = metadata[0]\n",
    "        title = metadata[1]\n",
    "        title, artist = normal(title, artist)\n",
    "        lev1 = Levenshtein.distance(title, search_title)\n",
    "                #print(artist_name)\n",
    "        if search_artist in artist: lev2 = 0\n",
    "        else: lev2 = Levenshtein.distance(artist, search_artist)\n",
    "        if lev1 + lev2 < min_lev:\n",
    "            match = file\n",
    "            min_lev = lev1 + lev2\n",
    "    print(search_file)\n",
    "    print(match)\n",
    "    base = os.path.splitext(match)[0]\n",
    "    a = input('next?')\n",
    "    if a == 'y':\n",
    "        os.rename(search_file, base + '.mp3')"
   ]
  },
  {
   "cell_type": "code",
   "execution_count": null,
   "metadata": {},
   "outputs": [],
   "source": [
    "print(base)\n",
    "os.rename(match, base + '.txt')"
   ]
  },
  {
   "cell_type": "code",
   "execution_count": 10,
   "metadata": {},
   "outputs": [],
   "source": [
    "def normal(title, artist):\n",
    "    title = title.lower()\n",
    "    \n",
    "    title = re.sub(r\"[^a-z]\", \"\", title)\n",
    "        #print(song_name)\n",
    "    artist = artist.lower()\n",
    "    artist = re.sub(r\"[^a-z]\", \"\", artist)\n",
    "    return title, artist"
   ]
  },
  {
   "cell_type": "code",
   "execution_count": null,
   "metadata": {},
   "outputs": [],
   "source": []
  }
 ],
 "metadata": {
  "kernelspec": {
   "display_name": "Python 3",
   "language": "python",
   "name": "python3"
  }
 },
 "nbformat": 4,
 "nbformat_minor": 2
}
